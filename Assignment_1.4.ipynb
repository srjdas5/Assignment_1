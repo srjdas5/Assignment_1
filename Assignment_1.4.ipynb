{
 "cells": [
  {
   "cell_type": "code",
   "execution_count": 7,
   "metadata": {},
   "outputs": [
    {
     "name": "stdout",
     "output_type": "stream",
     "text": [
      "Volume of Sphere with diameter 12cm is: 904.896 Cubecentimeter\n"
     ]
    }
   ],
   "source": [
    "d=12\n",
    "r=d/2\n",
    "pi=3.142\n",
    "v=4/3*pi*(r*r*r)\n",
    "print(\"Volume of Sphere with diameter 12cm is: \"+str(v)+\" Cubecentimeter\")"
   ]
  },
  {
   "cell_type": "code",
   "execution_count": null,
   "metadata": {
    "collapsed": true
   },
   "outputs": [],
   "source": []
  }
 ],
 "metadata": {
  "kernelspec": {
   "display_name": "Python 3",
   "language": "python",
   "name": "python3"
  },
  "language_info": {
   "codemirror_mode": {
    "name": "ipython",
    "version": 3
   },
   "file_extension": ".py",
   "mimetype": "text/x-python",
   "name": "python",
   "nbconvert_exporter": "python",
   "pygments_lexer": "ipython3",
   "version": "3.6.3"
  }
 },
 "nbformat": 4,
 "nbformat_minor": 2
}
